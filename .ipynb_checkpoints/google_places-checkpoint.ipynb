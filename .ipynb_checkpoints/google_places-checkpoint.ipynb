{
 "cells": [
  {
   "cell_type": "markdown",
   "metadata": {},
   "source": [
    "## Get places using google maps"
   ]
  },
  {
   "cell_type": "code",
   "execution_count": 2,
   "metadata": {
    "collapsed": true
   },
   "outputs": [],
   "source": [
    "import googlemaps\n",
    "import numpy as np"
   ]
  },
  {
   "cell_type": "code",
   "execution_count": 25,
   "metadata": {
    "collapsed": true
   },
   "outputs": [],
   "source": [
    "#Open a google maps client\n",
    "\n",
    "YourApiKey = 'AIzaSy...' #provide your API key here\n",
    "\n",
    "gm = googlemaps.Client(YourApiKey)"
   ]
  },
  {
   "cell_type": "code",
   "execution_count": 3,
   "metadata": {
    "collapsed": false
   },
   "outputs": [],
   "source": [
    "#Test the places_nearby function\n",
    "\n",
    "#places  = gm.places_nearby(keyword=None, location=(-37.80, 144.948), radius=300)\n",
    "#places"
   ]
  },
  {
   "cell_type": "code",
   "execution_count": 6,
   "metadata": {
    "collapsed": false
   },
   "outputs": [],
   "source": [
    "## Create a grid in Lat Lon space\n",
    "\n",
    "\n",
    "def meters_to_lat(meters):\n",
    "    \"\"\"\n",
    "    Convert meters to a crude latitude-longitude measure, \n",
    "    using the unit longitude distance at the equator\n",
    "    \"\"\"\n",
    "    return meters/111.2e3\n",
    "\n",
    "def create_grids(ulLatLon, lrLatLon, meters_spacing = 400., shape=()):\n",
    "    \"\"\"\n",
    "    This function creates a set of cells defined by a rectangle, and spacing in meters.\n",
    "    It return the coordinates of the cell centers - \n",
    "        which are the points where we conduct our places_nearby() searches\n",
    "        \n",
    "    Note that the overall cell soze will be slightly smaller meters_spacing paramter, \n",
    "    as I use : nx = int(np.ceil((lrLatLon[1] - ulLatLon[1])/lldist))\n",
    "               xs = np.linspace(ulLatLon[1], lrLatLon[1], nx)\n",
    "    Alternatively a shape tuple can be provide, eg (3, 5) defining the size of the grid. \n",
    " \n",
    "    \n",
    "    \"\"\"\n",
    "    if not shape:\n",
    "        lldist = meters_to_lat(meters_spacing)\n",
    "        nx = int(np.ceil((lrLatLon[1] - ulLatLon[1])/lldist))\n",
    "        ny = int(abs(np.ceil((lrLatLon[0] - ulLatLon[0])/lldist)))\n",
    "        xs = np.linspace(ulLatLon[1], lrLatLon[1], nx)\n",
    "        ys =  np.linspace(ulLatLon[0], lrLatLon[0], ny)\n",
    "    else:\n",
    "        lldist = meters_to_lat(meters_spacing)\n",
    "        xs = np.linspace(ulLatLon[1], lrLatLon[1], shape[0])\n",
    "        ys =  np.linspace(ulLatLon[0], lrLatLon[0], shape[1])\n",
    "    X, Y = np.meshgrid(xs , ys) #Thes are coordinates of the cell vertices\n",
    "    subX, subY = np.copy(X), np.copy(Y)\n",
    "    subX = subX[:-1, :-1] + lldist/2. #These give the points at the centre of the cells\n",
    "    subY = subY[:-1, :-1] + lldist/2.\n",
    "    return subX, subY"
   ]
  },
  {
   "cell_type": "code",
   "execution_count": 7,
   "metadata": {
    "collapsed": false
   },
   "outputs": [],
   "source": [
    "#Test the create gride function\n",
    "X, Y = create_grids((-37.805, 144.947), (-37.820, 144.970), meters_spacing = 400., shape=())\n",
    "X1, Y1 = create_grids((-37.805, 144.947), (-37.820, 144.970), meters_spacing = False, shape=(14,8))"
   ]
  },
  {
   "cell_type": "code",
   "execution_count": 8,
   "metadata": {
    "collapsed": false
   },
   "outputs": [],
   "source": []
  },
  {
   "cell_type": "code",
   "execution_count": 16,
   "metadata": {
    "collapsed": false
   },
   "outputs": [
    {
     "name": "stdout",
     "output_type": "stream",
     "text": [
      "##Iteration at grid level: 1\n",
      "##Search radius in meters: 400.0\n",
      "(5, 2)\n",
      "(144.94879856115108, -37.803201438848923, 400.0)\n",
      "19\n",
      "(144.96029856115109, -37.803201438848923, 400.0)\n",
      "20\n",
      "(144.94879856115108, -37.806201438848923, 400.0)\n",
      "18\n",
      "(144.96029856115109, -37.806201438848923, 400.0)\n",
      "20\n",
      "(144.94879856115108, -37.809201438848923, 400.0)\n",
      "7\n",
      "(144.96029856115109, -37.809201438848923, 400.0)\n",
      "20\n",
      "(144.94879856115108, -37.812201438848923, 400.0)\n",
      "7\n",
      "(144.96029856115109, -37.812201438848923, 400.0)\n",
      "20\n",
      "(144.94879856115108, -37.815201438848923, 400.0)\n",
      "20\n",
      "(144.96029856115109, -37.815201438848923, 400.0)\n",
      "20\n",
      "##Iteration at grid level: 2\n",
      "##Search radius in meters: 200.0\n",
      "(11, 5)\n",
      "(144.94789928057554, -37.804100719424461, 200.0)\n",
      "8\n",
      "(144.95249928057555, -37.804100719424461, 200.0)\n",
      "8\n",
      "(144.95709928057553, -37.804100719424461, 200.0)\n",
      "19\n",
      "(144.96169928057554, -37.804100719424461, 200.0)\n",
      "4\n",
      "(144.96629928057553, -37.804100719424461, 200.0)\n",
      "17\n",
      "(144.94789928057554, -37.805464355788096, 200.0)\n",
      "4\n",
      "(144.95249928057555, -37.805464355788096, 200.0)\n",
      "8\n",
      "(144.95709928057553, -37.805464355788096, 200.0)\n",
      "20\n",
      "(144.96169928057554, -37.805464355788096, 200.0)\n",
      "6\n",
      "(144.96629928057553, -37.805464355788096, 200.0)\n",
      "19\n",
      "(144.94789928057554, -37.806827992151732, 200.0)\n",
      "2\n",
      "(144.95249928057555, -37.806827992151732, 200.0)\n",
      "6\n",
      "(144.95709928057553, -37.806827992151732, 200.0)\n",
      "19\n",
      "(144.96169928057554, -37.806827992151732, 200.0)\n",
      "10\n",
      "(144.96629928057553, -37.806827992151732, 200.0)\n",
      "6\n",
      "(144.94789928057554, -37.808191628515374, 200.0)\n",
      "1\n",
      "(144.95249928057555, -37.808191628515374, 200.0)\n",
      "2\n",
      "(144.95709928057553, -37.808191628515374, 200.0)\n",
      "6\n",
      "(144.96169928057554, -37.808191628515374, 200.0)\n",
      "20\n",
      "(144.96629928057553, -37.808191628515374, 200.0)\n",
      "11\n",
      "(144.94789928057554, -37.809555264879009, 200.0)\n",
      "2\n",
      "(144.95249928057555, -37.809555264879009, 200.0)\n",
      "3\n",
      "(144.95709928057553, -37.809555264879009, 200.0)\n",
      "12\n",
      "(144.96169928057554, -37.809555264879009, 200.0)\n",
      "20\n",
      "(144.96629928057553, -37.809555264879009, 200.0)\n",
      "20\n",
      "(144.94789928057554, -37.810918901242644, 200.0)\n",
      "1\n",
      "(144.95249928057555, -37.810918901242644, 200.0)\n",
      "1\n",
      "(144.95709928057553, -37.810918901242644, 200.0)\n",
      "14\n",
      "(144.96169928057554, -37.810918901242644, 200.0)\n",
      "20\n",
      "(144.96629928057553, -37.810918901242644, 200.0)\n",
      "20\n",
      "(144.94789928057554, -37.812282537606279, 200.0)\n",
      "1\n",
      "(144.95249928057555, -37.812282537606279, 200.0)\n",
      "7\n",
      "(144.95709928057553, -37.812282537606279, 200.0)\n",
      "20\n",
      "(144.96169928057554, -37.812282537606279, 200.0)\n",
      "20\n",
      "(144.96629928057553, -37.812282537606279, 200.0)\n",
      "20\n",
      "(144.94789928057554, -37.813646173969914, 200.0)\n",
      "0\n",
      "(144.95249928057555, -37.813646173969914, 200.0)\n",
      "12\n",
      "(144.95709928057553, -37.813646173969914, 200.0)\n",
      "20\n",
      "(144.96169928057554, -37.813646173969914, 200.0)\n",
      "20\n",
      "(144.96629928057553, -37.813646173969914, 200.0)\n",
      "20\n",
      "(144.94789928057554, -37.815009810333549, 200.0)\n",
      "1\n",
      "(144.95249928057555, -37.815009810333549, 200.0)\n",
      "16\n",
      "(144.95709928057553, -37.815009810333549, 200.0)\n",
      "20\n",
      "(144.96169928057554, -37.815009810333549, 200.0)\n",
      "20\n",
      "(144.96629928057553, -37.815009810333549, 200.0)\n",
      "20\n",
      "(144.94789928057554, -37.816373446697192, 200.0)\n",
      "2\n",
      "(144.95249928057555, -37.816373446697192, 200.0)\n",
      "16\n",
      "(144.95709928057553, -37.816373446697192, 200.0)\n",
      "20\n",
      "(144.96169928057554, -37.816373446697192, 200.0)\n",
      "20\n",
      "(144.96629928057553, -37.816373446697192, 200.0)\n",
      "20\n",
      "(144.94789928057554, -37.817737083060827, 200.0)\n",
      "10\n",
      "(144.95249928057555, -37.817737083060827, 200.0)\n",
      "16\n",
      "(144.95709928057553, -37.817737083060827, 200.0)\n",
      "20\n",
      "(144.96169928057554, -37.817737083060827, 200.0)\n",
      "20\n",
      "(144.96629928057553, -37.817737083060827, 200.0)\n",
      "20\n",
      "##finished\n"
     ]
    }
   ],
   "source": [
    "##########\n",
    "#In this block we search through a grid and extract records cel-by-cell. \n",
    "#If the records query in anny cell maxes out (i.e. hits 20 record), \n",
    "#we create a finer grid and search again\n",
    "##########\n",
    "\n",
    "ULCRN = (-37.805, 144.947) #Approx melbourne CBD limits\n",
    "LRCRN = (-37.820, 144.970)\n",
    "\n",
    "spacing = 400. #intial spacing of cells in our grid\n",
    "X, Y = create_grids(ULCRN, LRCRN, meters_spacing = spacing, shape=()) #create grids\n",
    "orig_shape = Y.shape\n",
    "max_levels = 2. #this paramter will limit the number of refinement levels \n",
    "lengths = [21]  #A dummy parameter, ultimately we try to reduce this below 20, meaning we have \n",
    "                #will have returned all results for each searhc area\n",
    "fac = 1.        #This is the scaling factor for our grid cell size and search radius\n",
    "\n",
    "\n",
    "while max(lengths) >= 20 and fac <= max_levels: \n",
    "    print('##Iteration at grid level: ' + str(int(fac)))\n",
    "    new_shape = tuple(np.array(orig_shape)*fac)\n",
    "    new_spacing = spacing/fac\n",
    "    print('##Search radius in meters: ' + str(new_spacing))\n",
    "    records = []\n",
    "    lengths = []\n",
    "    X, Y = create_grids((-37.805, 144.947), (-37.820, 144.970), meters_spacing = new_spacing, shape=new_shape)\n",
    "    #print(X.shape)\n",
    "    for index, value in np.ndenumerate(X): #loop through cells of current grid\n",
    "        #print index,\n",
    "        y = Y[index]\n",
    "        x = X[index]\n",
    "        #print(x,y, new_spacing)\n",
    "        places  = gm.places_nearby(keyword='restaurant', location=(y,x), radius=new_spacing )\n",
    "        records.append(places['results'])\n",
    "        #print(len(places['results']))\n",
    "        lengths.append(len(places['results'])) \n",
    "        \n",
    "    fac *= 2 #Increase the grid refinment factor\n",
    "print('##finished')\n",
    "    "
   ]
  },
  {
   "cell_type": "code",
   "execution_count": 11,
   "metadata": {
    "collapsed": false
   },
   "outputs": [],
   "source": [
    "#records"
   ]
  },
  {
   "cell_type": "code",
   "execution_count": 12,
   "metadata": {
    "collapsed": false
   },
   "outputs": [
    {
     "data": {
      "text/plain": [
       "(-37.815201438848923, 144.96029856115109)"
      ]
     },
     "execution_count": 12,
     "metadata": {},
     "output_type": "execute_result"
    }
   ],
   "source": [
    "y,x"
   ]
  },
  {
   "cell_type": "markdown",
   "metadata": {},
   "source": [
    "### Parse data with Pandas"
   ]
  },
  {
   "cell_type": "code",
   "execution_count": 13,
   "metadata": {
    "collapsed": false
   },
   "outputs": [],
   "source": [
    "import pandas as pd"
   ]
  },
  {
   "cell_type": "code",
   "execution_count": null,
   "metadata": {
    "collapsed": false
   },
   "outputs": [],
   "source": []
  },
  {
   "cell_type": "code",
   "execution_count": 17,
   "metadata": {
    "collapsed": false
   },
   "outputs": [
    {
     "name": "stdout",
     "output_type": "stream",
     "text": [
      "(u'Om Nom', -37.81637200000001, 144.9683685, 4)\n"
     ]
    }
   ],
   "source": [
    "df = pd.DataFrame(columns=['name', 'lat', 'lon', 'rating'])\n",
    "for cell in records:\n",
    "    for place in cell:\n",
    "        #print(place)\n",
    "        name = place['name']\n",
    "        lat = place['geometry']['location']['lat']\n",
    "        lon = place['geometry']['location']['lng']\n",
    "        try:\n",
    "            rating = place['rating'] #Not all places have ratings, so use try - except\n",
    "        except:\n",
    "            rating = ''\n",
    "        series = pd.Series([name, lat, lon, rating], index=['name', 'lat', 'lon', 'rating'])\n",
    "        df = df.append(series,  ignore_index=True)\n",
    "print(name, lat, lon, rating)"
   ]
  },
  {
   "cell_type": "code",
   "execution_count": 24,
   "metadata": {
    "collapsed": false
   },
   "outputs": [
    {
     "data": {
      "text/html": [
       "<div>\n",
       "<table border=\"1\" class=\"dataframe\">\n",
       "  <thead>\n",
       "    <tr style=\"text-align: right;\">\n",
       "      <th></th>\n",
       "      <th>name</th>\n",
       "      <th>lat</th>\n",
       "      <th>lon</th>\n",
       "      <th>rating</th>\n",
       "    </tr>\n",
       "  </thead>\n",
       "  <tbody>\n",
       "    <tr>\n",
       "      <th>0</th>\n",
       "      <td>Nizams Indian Restaurant</td>\n",
       "      <td>-37.804748</td>\n",
       "      <td>144.948711</td>\n",
       "      <td>3.7</td>\n",
       "    </tr>\n",
       "    <tr>\n",
       "      <th>1</th>\n",
       "      <td>Sosta Cucina</td>\n",
       "      <td>-37.804819</td>\n",
       "      <td>144.949486</td>\n",
       "      <td>4.2</td>\n",
       "    </tr>\n",
       "    <tr>\n",
       "      <th>2</th>\n",
       "      <td>Amiconi Restaurant</td>\n",
       "      <td>-37.805384</td>\n",
       "      <td>144.949577</td>\n",
       "      <td>3.9</td>\n",
       "    </tr>\n",
       "    <tr>\n",
       "      <th>3</th>\n",
       "      <td>Reynaldo's Grills and Sizzles</td>\n",
       "      <td>-37.804002</td>\n",
       "      <td>144.949838</td>\n",
       "      <td>3.9</td>\n",
       "    </tr>\n",
       "    <tr>\n",
       "      <th>4</th>\n",
       "      <td>Mr. Price's Foodstore</td>\n",
       "      <td>-37.803004</td>\n",
       "      <td>144.950726</td>\n",
       "      <td></td>\n",
       "    </tr>\n",
       "  </tbody>\n",
       "</table>\n",
       "</div>"
      ],
      "text/plain": [
       "                            name        lat         lon rating\n",
       "0       Nizams Indian Restaurant -37.804748  144.948711    3.7\n",
       "1                   Sosta Cucina -37.804819  144.949486    4.2\n",
       "2             Amiconi Restaurant -37.805384  144.949577    3.9\n",
       "3  Reynaldo's Grills and Sizzles -37.804002  144.949838    3.9\n",
       "4          Mr. Price's Foodstore -37.803004  144.950726       "
      ]
     },
     "execution_count": 24,
     "metadata": {},
     "output_type": "execute_result"
    }
   ],
   "source": [
    "#Take a quick look at our data frame\n",
    "df.head()"
   ]
  },
  {
   "cell_type": "code",
   "execution_count": 22,
   "metadata": {
    "collapsed": false
   },
   "outputs": [
    {
     "data": {
      "text/plain": [
       "(299, 4)"
      ]
     },
     "execution_count": 22,
     "metadata": {},
     "output_type": "execute_result"
    }
   ],
   "source": [
    "#Drop duplicates\n",
    "df2 = df.drop_duplicates('name')\n",
    "df2.shape"
   ]
  },
  {
   "cell_type": "code",
   "execution_count": null,
   "metadata": {
    "collapsed": true
   },
   "outputs": [],
   "source": [
    "#output to csv\n",
    "#df2.to_csv('results.csv')"
   ]
  },
  {
   "cell_type": "markdown",
   "metadata": {},
   "source": [
    "## Next steps\n",
    "\n",
    "It would be nice to make use of numpy masked arrays so we only refine our search in locations where necessary. This would lead to much faster search results."
   ]
  },
  {
   "cell_type": "code",
   "execution_count": null,
   "metadata": {
    "collapsed": true
   },
   "outputs": [],
   "source": []
  }
 ],
 "metadata": {
  "kernelspec": {
   "display_name": "Python 2",
   "language": "python",
   "name": "python2"
  },
  "language_info": {
   "codemirror_mode": {
    "name": "ipython",
    "version": 2
   },
   "file_extension": ".py",
   "mimetype": "text/x-python",
   "name": "python",
   "nbconvert_exporter": "python",
   "pygments_lexer": "ipython2",
   "version": "2.7.11"
  },
  "widgets": {
   "state": {},
   "version": "1.1.2"
  }
 },
 "nbformat": 4,
 "nbformat_minor": 0
}
